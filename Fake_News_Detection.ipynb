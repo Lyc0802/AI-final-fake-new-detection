{
 "cells": [
  {
   "cell_type": "code",
   "execution_count": null,
   "metadata": {},
   "outputs": [],
   "source": [
    "pip install numpy pandas nltk transformers torch scikit-learn tensorflow matplotlib"
   ]
  },
  {
   "cell_type": "code",
   "execution_count": null,
   "metadata": {
    "id": "iTI0PLNgC-wy"
   },
   "outputs": [],
   "source": [
    "import re\n",
    "import string\n",
    "import numpy as np\n",
    "import pandas as pd\n",
    "import csv"
   ]
  },
  {
   "cell_type": "markdown",
   "metadata": {
    "id": "iKsrFHJKDV_7"
   },
   "source": [
    "# 0. Load Data and Preprocess"
   ]
  },
  {
   "cell_type": "code",
   "execution_count": null,
   "metadata": {
    "id": "rYINVoJ-_EPN"
   },
   "outputs": [],
   "source": [
    "# Dataset's path\n",
    "real_path = 'data/True.csv'\n",
    "fake_path = 'data/Fake.csv'\n",
    "common_path = 'data/WELFake_Dataset.csv'"
   ]
  },
  {
   "cell_type": "code",
   "execution_count": null,
   "metadata": {
    "id": "ccmq8BNNJI9L"
   },
   "outputs": [],
   "source": [
    "def load_data(real_path, fake_path):\n",
    "    real_data = pd.read_csv(real_path)\n",
    "    fake_data = pd.read_csv(fake_path)\n",
    "    real_data['label'] = 1\n",
    "    fake_data['label'] = 0\n",
    "    data = pd.concat([real_data, fake_data]).reset_index(drop=True)\n",
    "    return data"
   ]
  },
  {
   "cell_type": "code",
   "execution_count": null,
   "metadata": {
    "id": "8iwfqnXzDIe2"
   },
   "outputs": [],
   "source": [
    "# Clear the text\n",
    "def wordopt(text):\n",
    "    text = text.lower()\n",
    "    text = re.sub('\\[.*?\\]', '', text)\n",
    "    text = re.sub('https?://\\S+|www\\.\\S+', '', text)\n",
    "    text = re.sub('<.*?>+', '', text)\n",
    "\n",
    "    return text"
   ]
  },
  {
   "cell_type": "markdown",
   "metadata": {
    "id": "P4xLstdZmoxw"
   },
   "source": [
    "# 1. Analyse the feature"
   ]
  },
  {
   "cell_type": "code",
   "execution_count": null,
   "metadata": {
    "colab": {
     "base_uri": "https://localhost:8080/"
    },
    "id": "BD2P0jWmv8_-",
    "outputId": "22dc5652-71a1-4e30-b7ea-20dc1c984ca4"
   },
   "outputs": [],
   "source": [
    "import nltk\n",
    "from nltk.tokenize import word_tokenize, sent_tokenize\n",
    "from nltk.probability import FreqDist\n",
    "from nltk.corpus import stopwords\n",
    "from nltk.sentiment import SentimentIntensityAnalyzer\n",
    "from nltk.corpus import subjectivity\n",
    "from nltk import ne_chunk\n",
    "\n",
    "nltk.download('punkt')\n",
    "nltk.download('averaged_perceptron_tagger')\n",
    "nltk.download('maxent_ne_chunker')\n",
    "nltk.download('words')\n",
    "nltk.download('stopwords')\n",
    "nltk.download('vader_lexicon')\n",
    "nltk.download('subjectivity')\n",
    "nltk.download('wordnet')"
   ]
  },
  {
   "cell_type": "code",
   "execution_count": null,
   "metadata": {
    "id": "qvhvztDf_iHo"
   },
   "outputs": [],
   "source": [
    "# Function to load the NRC Emotion Lexicon\n",
    "def load_nrc_lexicon(file_path):\n",
    "      lexicon = {}\n",
    "      with open(file_path, 'r') as file:\n",
    "        reader = csv.reader(file, delimiter='\\t')\n",
    "        for row in reader:\n",
    "          word, emotion, association = row\n",
    "          if word not in lexicon:\n",
    "            lexicon[word] = []\n",
    "          if association == '1':\n",
    "            lexicon[word].append(emotion)\n",
    "      return lexicon\n",
    "\n",
    "def count_emotions_in_text(words, lexicon):\n",
    "      emotion_counts = {emotion: 0 for emotion in set(emotion for emotions in lexicon.values() for emotion in emotions)}\n",
    "\n",
    "      for word in words:\n",
    "        if word in lexicon:\n",
    "          for emotion in lexicon[word]:\n",
    "            emotion_counts[emotion] += 1\n",
    "\n",
    "      return emotion_counts\n",
    "\n",
    "nrc_lexicon = load_nrc_lexicon('data/NRC-emotion-lexicon-wordlevel-alphabetized-v0.92.txt')\n",
    "sid = SentimentIntensityAnalyzer()"
   ]
  },
  {
   "cell_type": "code",
   "execution_count": null,
   "metadata": {
    "id": "EBVquLehuv8X"
   },
   "outputs": [],
   "source": [
    "def extract_feature(text):\n",
    "    res = ()\n",
    "\n",
    "    # Tokenize the text into words and sentences once\n",
    "    words = word_tokenize(text)\n",
    "    sentences = sent_tokenize(text)\n",
    "\n",
    "    # Calculate word frequencies\n",
    "    word_freq = FreqDist(words)\n",
    "\n",
    "    # Calculate average sentence length\n",
    "    avg_sentence_length = sum(len(sent.split()) for sent in sentences) / len(sentences) if sentences else 0\n",
    "    res += (avg_sentence_length,)\n",
    "\n",
    "    emotion_counts = count_emotions_in_text(words,nrc_lexicon)\n",
    "    for _, val in emotion_counts.items():\n",
    "      res += (val,)\n",
    "\n",
    "    return np.array(res)"
   ]
  },
  {
   "cell_type": "markdown",
   "metadata": {
    "id": "P4xLstdZmoxw"
   },
   "source": [
    "# 2. Feed to LLM"
   ]
  },
  {
   "cell_type": "code",
   "execution_count": null,
   "metadata": {
    "scrolled": true
   },
   "outputs": [],
   "source": [
    "from transformers import AutoTokenizer, AutoModel\n",
    "import torch"
   ]
  },
  {
   "cell_type": "code",
   "execution_count": null,
   "metadata": {},
   "outputs": [],
   "source": [
    "tokenizer = AutoTokenizer.from_pretrained('sentence-transformers/paraphrase-MiniLM-L6-v2')\n",
    "model = AutoModel.from_pretrained('sentence-transformers/paraphrase-MiniLM-L6-v2')\n",
    "\n",
    "# IMPORTANT: Change \"mps\" to \"cuda\" if using not Mac\n",
    "device = torch.device(\"mps\") if torch.backends.mps.is_available() else torch.device(\"cpu\")\n",
    "model.to(device)\n",
    "\n",
    "def vectorisation(text):\n",
    "    # Tokenize the text\n",
    "    inputs = tokenizer(text, return_tensors='pt', truncation=True, padding=True, max_length=512).to(device)\n",
    "    with torch.no_grad():\n",
    "        outputs = model(**inputs)\n",
    "    \n",
    "    # Get the last hidden states\n",
    "    last_hidden_states = outputs.last_hidden_state\n",
    "    pooled_output = torch.mean(last_hidden_states, dim=1)\n",
    "\n",
    "    return pooled_output.detach().cpu().numpy().flatten()"
   ]
  },
  {
   "cell_type": "markdown",
   "metadata": {},
   "source": [
    "# 3. Try to read data"
   ]
  },
  {
   "cell_type": "code",
   "execution_count": null,
   "metadata": {
    "scrolled": true
   },
   "outputs": [],
   "source": [
    "fulldata = pd.DataFrame()\n",
    "try:\n",
    "    with open('label_feat_vect.pkl', 'r') as f:\n",
    "        # Read the data from pkl and shuffle\n",
    "        fulldata = pd.read_pickle('label_feat_vect.pkl')\n",
    "        fulldata = fulldata.sample(frac=1)\n",
    "\n",
    "\n",
    "# Create pkl file with label, features, and the vector\n",
    "except FileNotFoundError:\n",
    "    #data = load_data(real_path, fake_path)\n",
    "    #data = data.drop(['title','subject','date'], axis = 1)\n",
    "    data = pd.read_csv(common_path)\n",
    "    data = data.drop(['title'], axis = 1)\n",
    "    data[\"text\"] = data[\"text\"].fillna(\"No text\")\n",
    "    data['text'] = data['text'].apply(wordopt)\n",
    "    \n",
    "    # Takes 15-20 minuts on Apple M2 Max\n",
    "    vector = data['text'].apply(vectorisation)\n",
    "    # Takes 2 minuts on Apple M2 Max\n",
    "    feature = data['text'].apply(extract_feature)\n",
    "    \n",
    "    fulldata['label'] = data['label']\n",
    "    fulldata['vector'] = vector\n",
    "    fulldata['feature'] = feature\n",
    "    \n",
    "    # Save the data\n",
    "    fulldata.to_pickle('label_feat_vect.pkl')\n",
    "    fulldata = fulldata.sample(frac=1)\n",
    "\n",
    "fulldata.head()"
   ]
  },
  {
   "cell_type": "markdown",
   "metadata": {},
   "source": [
    "# 4. Train and Test"
   ]
  },
  {
   "cell_type": "code",
   "execution_count": null,
   "metadata": {},
   "outputs": [],
   "source": [
    "from sklearn.model_selection import train_test_split\n",
    "from sklearn.preprocessing import StandardScaler\n",
    "from tensorflow.keras.models import Sequential\n",
    "from tensorflow.keras.layers import Input, Dense\n",
    "from tensorflow.keras.callbacks import EarlyStopping"
   ]
  },
  {
   "cell_type": "code",
   "execution_count": null,
   "metadata": {},
   "outputs": [],
   "source": [
    "def train_test(X):\n",
    "    X_train, X_test, labl_train, labl_test = train_test_split(X, labl, test_size=0.3, random_state=42)\n",
    "\n",
    "    scaler = StandardScaler()\n",
    "    X_train = scaler.fit_transform(X_train)\n",
    "    X_test = scaler.transform(X_test)\n",
    "\n",
    "    model = Sequential([\n",
    "        Input(shape=(X.shape[1],)),\n",
    "        Dense(64, activation='relu'),\n",
    "        Dense(32, activation='relu'),\n",
    "        Dense(1, activation='sigmoid')\n",
    "    ])\n",
    "\n",
    "    model.compile(optimizer='adam', loss='binary_crossentropy', metrics=['accuracy'])\n",
    "\n",
    "    early_stopping = EarlyStopping(monitor='val_loss', patience=3, restore_best_weights=True)\n",
    "\n",
    "    history = model.fit(X_train, labl_train, \n",
    "                epochs=7, \n",
    "                batch_size=32, \n",
    "                validation_data=(X_test, labl_test), \n",
    "                callbacks=[early_stopping])\n",
    "    \n",
    "    loss, accuracy = model.evaluate(X_test, labl_test)\n",
    "    \n",
    "    return [loss, accuracy, history]"
   ]
  },
  {
   "cell_type": "code",
   "execution_count": null,
   "metadata": {
    "scrolled": true
   },
   "outputs": [],
   "source": [
    "# Split the data for training and test\n",
    "Xf = np.array(fulldata['feature'].tolist())\n",
    "Xv = np.array(fulldata['vector'].tolist())\n",
    "X = np.concatenate((Xf, Xv), axis=1)\n",
    "labl = fulldata['label']\n",
    "\n",
    "FV = train_test(X)\n",
    "F = train_test(Xf)\n",
    "V = train_test(Xv)\n",
    "\n",
    "print(\"Feature + vector:\")\n",
    "print(f\"Test Loss: {FV[0]}\")\n",
    "print(f\"Test Accuracy: {FV[1]}\\n\")\n",
    "\n",
    "print(\"Feature only:\")\n",
    "print(f\"Test Loss: {F[0]}\")\n",
    "print(f\"Test Accuracy: {F[1]}\\n\")\n",
    "\n",
    "print(\"Vector only:\")\n",
    "print(f\"Test Loss: {V[0]}\")\n",
    "print(f\"Test Accuracy: {V[1]}\\n\")"
   ]
  },
  {
   "cell_type": "markdown",
   "metadata": {},
   "source": [
    "# 5.Plot the Results"
   ]
  },
  {
   "cell_type": "code",
   "execution_count": null,
   "metadata": {},
   "outputs": [],
   "source": [
    "import matplotlib.pyplot as plt"
   ]
  },
  {
   "cell_type": "code",
   "execution_count": null,
   "metadata": {},
   "outputs": [],
   "source": [
    "def plot_history(histories, title):\n",
    "    plt.figure(figsize=(15, 10))\n",
    "    \n",
    "    # Train losses\n",
    "    plt.subplot(2, 2, 1)\n",
    "    for label, history in histories:\n",
    "        plt.plot(history.history['loss'], label=f'{label} Training loss')\n",
    "    plt.title('Train losses')\n",
    "    plt.ylabel('Loss')\n",
    "    plt.legend()\n",
    "    \n",
    "    # Validation losses\n",
    "    plt.subplot(2, 2, 3)\n",
    "    for label, history in histories:\n",
    "        plt.plot(history.history['val_loss'], label=f'{label} Validation loss')\n",
    "    plt.title('Validation losses')\n",
    "    plt.xlabel('Epochs')\n",
    "    plt.ylabel('Loss')\n",
    "    plt.legend()\n",
    "    \n",
    "    # Train accuracies\n",
    "    plt.subplot(2, 2, 2)\n",
    "    for label, history in histories:\n",
    "        plt.plot(history.history['accuracy'], label=f'{label} Training accuracy')\n",
    "    plt.title('Train accuracies')\n",
    "    plt.ylabel('Accuracy')\n",
    "    plt.legend()\n",
    "    \n",
    "    # Validation accuracies\n",
    "    plt.subplot(2, 2, 4)\n",
    "    for label, history in histories:\n",
    "        plt.plot(history.history['val_accuracy'], label=f'{label} Validation accuracy')\n",
    "    plt.title('Validation accuracies')\n",
    "    plt.xlabel('Epochs')\n",
    "    plt.ylabel('Accuracy')\n",
    "    plt.legend()\n",
    "\n",
    "    plt.suptitle(title)\n",
    "    plt.show()"
   ]
  },
  {
   "cell_type": "code",
   "execution_count": null,
   "metadata": {},
   "outputs": [],
   "source": [
    "histories = [\n",
    "    ('Feature + Vector', FV[2]),\n",
    "    #('Feature Only', F[2]),\n",
    "    ('Vector Only', V[2])\n",
    "]\n",
    "\n",
    "plot_history(histories, 'Training and Validation Loss and Accuracy')"
   ]
  }
 ],
 "metadata": {
  "colab": {
   "provenance": []
  },
  "kernelspec": {
   "display_name": "Python 3 (ipykernel)",
   "language": "python",
   "name": "python3"
  },
  "language_info": {
   "codemirror_mode": {
    "name": "ipython",
    "version": 3
   },
   "file_extension": ".py",
   "mimetype": "text/x-python",
   "name": "python",
   "nbconvert_exporter": "python",
   "pygments_lexer": "ipython3",
   "version": "3.11.5"
  }
 },
 "nbformat": 4,
 "nbformat_minor": 4
}
